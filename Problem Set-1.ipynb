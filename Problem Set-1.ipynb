{
 "cells": [
  {
   "cell_type": "markdown",
   "id": "f26425cc",
   "metadata": {},
   "source": [
    "# Problem Set 1"
   ]
  },
  {
   "cell_type": "markdown",
   "id": "5863e8c9",
   "metadata": {},
   "source": [
    "# Question 1 C#\n",
    "\n",
    "What data type is each of the following?"
   ]
  },
  {
   "cell_type": "markdown",
   "id": "36859f32",
   "metadata": {},
   "source": [
    "#Answer#\n",
    "\n",
    "5       Integer \n",
    "5.0     Float\n",
    "5 > 1   Boolean\n",
    "'5'     Character\n",
    "5*2     Integer\n",
    "'5'*2   String\n",
    "'5'+2   String\n",
    "5/2     Float\n",
    "5%2     Integer\n",
    "{5.2.1} Array\n",
    "5==3    Boolean\n",
    "Pi (the number) 3.14 = Float"
   ]
  },
  {
   "cell_type": "markdown",
   "id": "0536d74e",
   "metadata": {},
   "source": [
    "# Question 2 (A) C# "
   ]
  },
  {
   "cell_type": "code",
   "execution_count": 2,
   "id": "e11f53d2",
   "metadata": {},
   "outputs": [
    {
     "name": "stdout",
     "output_type": "stream",
     "text": [
      "Length: 34 \r\n"
     ]
    }
   ],
   "source": [
    "string ex1 = \"Supercalifragilisticexpialidocious\";\n",
    "Console.WriteLine(\"Length: {0} \",(ex1.Length));\n",
    "Console.ReadLine();"
   ]
  },
  {
   "cell_type": "markdown",
   "id": "b8034293",
   "metadata": {},
   "source": [
    "\n",
    "# Question 2 (B) C#"
   ]
  },
  {
   "cell_type": "code",
   "execution_count": 3,
   "id": "c2b9fc49",
   "metadata": {},
   "outputs": [
    {
     "name": "stdout",
     "output_type": "stream",
     "text": [
      "True\r\n"
     ]
    }
   ],
   "source": [
    "string ex2 = \"Supercalifragilisticexpialidocious\";\n",
    "Console.WriteLine(ex2.Contains(\"ice\"));\n",
    "Console.ReadLine();"
   ]
  },
  {
   "cell_type": "markdown",
   "id": "80f75c42",
   "metadata": {},
   "source": [
    "# Question 2 (C) C#"
   ]
  },
  {
   "cell_type": "code",
   "execution_count": 4,
   "id": "bac3e2e3",
   "metadata": {},
   "outputs": [
    {
     "name": "stdout",
     "output_type": "stream",
     "text": [
      "length is: 34\n",
      "length is: 27\n",
      "length is: 34\n"
     ]
    }
   ],
   "source": [
    "string a = \"Supercalifragilisticexpialidocious\";\n",
    "Console.WriteLine(\"length is: {0}\", a.Length);\n",
    "\n",
    "string b = \"Honorificabilitudinitatibus\";\n",
    "Console.WriteLine(\"length is: {0}\", b.Length);\n",
    "\n",
    "string c = \"Bababadalgharaghtakamminarronnkonn\";\n",
    "Console.WriteLine(\"length is: {0}\", c.Length);\n",
    "         \n",
    "Console.ReadLine();"
   ]
  },
  {
   "cell_type": "markdown",
   "id": "570b15d9",
   "metadata": {},
   "source": [
    "# Question 2 (D) C#"
   ]
  },
  {
   "cell_type": "code",
   "execution_count": 5,
   "id": "303d4990",
   "metadata": {},
   "outputs": [
    {
     "name": "stdout",
     "output_type": "stream",
     "text": [
      "Bartok\r\n"
     ]
    }
   ],
   "source": [
    "string[] words = new string[] { \"Berlioz\", \"Borodin\", \"Brian\", \"Bartok\", \"Bellini\", \"Buxtehude\", \"Bernstein\" };\n",
    "Array.Sort(words);\n",
    "Console.WriteLine(words[0]);\n",
    "Console.ReadLine();"
   ]
  },
  {
   "cell_type": "markdown",
   "id": "668f4176",
   "metadata": {},
   "source": [
    "# Question 3 C#\n",
    "\n",
    "Implement function triangleArea(a,b,c) that takes as input the lengths of the 3\n",
    "sides of a triangle and returns the area of the triangle. By Heron's formula, the area\n",
    "of a triangle with side lengths a, b, and c is\n",
    "s(s - a)(s -b)(s -c)\n",
    ", where\n",
    "s = (a+b+c)/2. "
   ]
  },
  {
   "cell_type": "code",
   "execution_count": 1,
   "id": "9e9e75ed",
   "metadata": {},
   "outputs": [
    {
     "ename": "SyntaxError",
     "evalue": "invalid syntax (Temp/ipykernel_9944/1423392088.py, line 1)",
     "output_type": "error",
     "traceback": [
      "\u001b[1;36m  File \u001b[1;32m\"C:\\Users\\Alpha\\AppData\\Local\\Temp/ipykernel_9944/1423392088.py\"\u001b[1;36m, line \u001b[1;32m1\u001b[0m\n\u001b[1;33m    using System;\u001b[0m\n\u001b[1;37m          ^\u001b[0m\n\u001b[1;31mSyntaxError\u001b[0m\u001b[1;31m:\u001b[0m invalid syntax\n"
     ]
    }
   ],
   "source": [
    "using System;\n",
    "\n",
    "namespace ConsoleApp1\n",
    "{\n",
    "    class Program\n",
    "    {\n",
    "        public void triangleArea(int a, int b, int c)\n",
    "        {\n",
    "            float s = (a + b + c) / 2;\n",
    "            double withoutRoot = s * (s - a)*(s - b)*(s - c);\n",
    "            double ans = Math.Sqrt(withoutRoot);\n",
    "            Console.WriteLine(\"Area of Triangel : \" + ans);\n",
    "        }\n",
    "        static void Main(string[] args)\n",
    "        {\n",
    "            Program program = new Program();\n",
    "            program.triangleArea(2,2,2);\n",
    "        }\n",
    "    }\n",
    "}"
   ]
  },
  {
   "cell_type": "markdown",
   "id": "2959c590",
   "metadata": {},
   "source": [
    "# Question 4 C#\n",
    "\n",
    "Write a program in C# Sharp to separate odd and even integers in separate arrays.\n",
    "Go to the editor\n",
    "Test Data :\n",
    "Input the number of elements to be stored in the array :5\n",
    "Input 5 elements in the array :\n",
    "element - 0 : 25\n",
    "element - 1 : 47\n",
    "element - 2 : 42\n",
    "element - 3 : 56\n",
    "element - 4 : 32"
   ]
  },
  {
   "cell_type": "code",
   "execution_count": 1,
   "id": "ecf8f375",
   "metadata": {},
   "outputs": [
    {
     "ename": "Unhandled Exception",
     "evalue": "(2,1): error CS7021: Cannot declare namespace in script code",
     "output_type": "error",
     "traceback": [
      "(2,1): error CS7021: Cannot declare namespace in script code"
     ]
    }
   ],
   "source": [
    "using System;\n",
    "namespace ConsoleApp1\n",
    "{\n",
    "    class Program\n",
    "    {\n",
    "        static void Main(string[] args)\n",
    "        {\n",
    "            int j = 0, k = 0;\n",
    "            Console.WriteLine(\"Input the number of elements to be stored in the array : \");\n",
    "            string sizeSTR = Console.ReadLine();\n",
    "            int size = Convert.ToInt32(sizeSTR);\n",
    "\n",
    "            int[] array = new int[size];\n",
    "            for (int i = 0; i < size; i++)\n",
    "            {\n",
    "                Console.WriteLine(\"element - \" + i);\n",
    "                array[i] = Convert.ToInt32(Console.ReadLine());\n",
    "            }\n",
    "\n",
    "            int[] even = new int[size];\n",
    "            int[] odd = new int[size];\n",
    "\n",
    "            foreach (var item in array)\n",
    "            {\n",
    "                if (item % 2 == 0)\n",
    "                {\n",
    "                    even[j] = item;\n",
    "                    j++;\n",
    "                }\n",
    "                else\n",
    "                {\n",
    "                    odd[k] = item;\n",
    "                    k++;\n",
    "                }\n",
    "            }\n",
    "            Console.WriteLine(\"\\nThe Even elements are:\");\n",
    "            for (int i = 0; i < j; i++)\n",
    "            {\n",
    "                Console.Write( even [i] + \" \" );\n",
    "            }\n",
    "\n",
    "            Console.WriteLine(\"\\nThe Odd elements are:\");\n",
    "            for (int i = 0; i < k; i++)\n",
    "            {\n",
    "                Console.Write(odd[i] + \" \" );\n",
    "            }\n",
    "        }\n",
    "    }\n",
    "}"
   ]
  },
  {
   "cell_type": "markdown",
   "id": "a5a0f62d",
   "metadata": {},
   "source": [
    "# Question 5 (A) C#\n",
    "\n",
    "a. Write a function inside(x,y,x1,y1,x2,y2) that returns True or False\n",
    "depending on whether the point (x,y) lies in the rectangle with lower left\n",
    "corner (x1,y1) and upper right corner (x2,y2).\n",
    ">>> inside(1,1,0,0,2,3)\n",
    "True\n",
    ">>> inside(-1,-1,0,0,2,3)\n",
    "False"
   ]
  },
  {
   "cell_type": "code",
   "execution_count": null,
   "id": "e585b7f2",
   "metadata": {},
   "outputs": [],
   "source": [
    "using System;\n",
    "\n",
    "namespace ConsoleApp1\n",
    "{\n",
    "    class Program\n",
    "    {\n",
    "        static bool checkInside(int x, int y, int x1, int y1, int x2, int y2)\n",
    "        {\n",
    "            if (x > x1 && x < x2 && y > y1 && y < y2)\n",
    "            {\n",
    "                return true;\n",
    "            }\n",
    "            return false;\n",
    "        }\n",
    "        static void Main(string[] args)\n",
    "        {\n",
    "            Console.WriteLine(checkInside(1, 1, 0, 0, 2, 3));\n",
    "            Console.WriteLine(checkInside(-1, -1, 0, 0, 2, 3));\n",
    "        }\n",
    "    }\n",
    "}\n"
   ]
  },
  {
   "cell_type": "markdown",
   "id": "e36d7e05",
   "metadata": {},
   "source": [
    "# 5 (B) C#"
   ]
  },
  {
   "cell_type": "code",
   "execution_count": null,
   "id": "88321fe4",
   "metadata": {},
   "outputs": [],
   "source": [
    "\n",
    "using System;\n",
    "\n",
    "namespace ConsoleApp1\n",
    "{\n",
    "    class Program\n",
    "    {\n",
    "        static bool checkInside(int x, int y, double x1, double y1, double x2, double y2)\n",
    "        {\n",
    "            if (x > x1 && x < x2 && y > y1 && y < y2)\n",
    "            {\n",
    "                return true;\n",
    "            }\n",
    "            return false;\n",
    "        }\n",
    "        static void Main(string[] args)\n",
    "        {\n",
    "            Console.WriteLine(checkInside(1, 1, 0.3, 0.5, 1.1, 0.7));\n",
    "            Console.WriteLine(checkInside(1, 1, 0.5, 0.2, 1.1, 2));\n",
    "        }\n",
    "    }\n",
    "}"
   ]
  },
  {
   "cell_type": "markdown",
   "id": "711e283e",
   "metadata": {},
   "source": [
    "# Question 6 Python\n",
    "\n",
    " You can turn a word into pig-Latin using the following two rules (simplified):\n",
    "• If the word starts with a consonant, move that letter to the end and append\n",
    "'ay'. For example, 'happy' becomes 'appyhay' and 'pencil' becomes 'encilpay'.\n",
    "• If the word starts with a vowel, simply append 'way' to the end of the word.\n",
    "For example, 'enter' becomes 'enterway' and 'other' becomes 'otherway' . For\n",
    "our purposes, there are 5 vowels: a, e, i, o, u (so we count y as a consonant).\n",
    "Write a function pig() that takes a word (i.e., a string) as input and returns its pigLatin form. Your function should still work if the input word contains upper case\n",
    "characters. Your output should always be lower case however. "
   ]
  },
  {
   "cell_type": "code",
   "execution_count": 1,
   "id": "5951cfaf",
   "metadata": {},
   "outputs": [
    {
     "name": "stdout",
     "output_type": "stream",
     "text": [
      "appyhay\n",
      "enterway\n"
     ]
    }
   ],
   "source": [
    "def pig(word):\n",
    "  vowels = ('a','e','i','o','u','A','E','I','O','U')\n",
    "  if word.startswith(vowels):\n",
    "    print(word.lower()+'way')\n",
    "  else:\n",
    "    print(word[1:]+word[0].lower()+'ay')\n",
    "\n",
    "pig(\"happy\")\n",
    "pig(\"Enter\")"
   ]
  },
  {
   "cell_type": "markdown",
   "id": "c6844896",
   "metadata": {},
   "source": [
    "# Question 7 Python\n",
    "\n",
    "File bloodtype1.txt records blood-types of patients (A, B, AB, O or OO) at a clinic.\n",
    "Write a function bldcount() that reads the file with name name and reports (i.e.,\n",
    "prints) how many patients there are in each bloodtype.\n",
    ">>> bldcount('bloodtype.txt')\n",
    "There are 10 patients of blood type A.\n",
    "There is one patient of blood type B.\n",
    "There are 10 patients of blood type AB.\n",
    "There are 12 patients of blood type O.\n",
    "There are no patients of blood type OO.\n"
   ]
  },
  {
   "cell_type": "code",
   "execution_count": 2,
   "id": "da908742",
   "metadata": {},
   "outputs": [
    {
     "name": "stdout",
     "output_type": "stream",
     "text": [
      "There are 15 patients of blood type A.\n",
      "There are 1 patients of blood type B.\n",
      "There is one patient of blood type B.\n",
      "There are 13 patients of blood type AB.\n",
      "There are 15 patients of blood type O.\n",
      "There are no patients of blood type OO.\n"
     ]
    }
   ],
   "source": [
    "Blood_Categories=['A', 'B', 'AB', 'O', 'OO']\n",
    "\n",
    "def bloodcount(F_name):\n",
    "    infile=open(F_name,'r')\n",
    "    data=infile.read()\n",
    "    data=data.split()\n",
    "    infile.close()\n",
    "    \n",
    "    for type in Blood_Categories:\n",
    "        if data.count(type) != 0:\n",
    "            print('There are',data.count(type),'patients of blood type',type +'.')\n",
    "        if data.count(type) == 0:\n",
    "            print('There are no patients of blood type',type + '.')\n",
    "        if data.count(type) == 1:\n",
    "            print('There is one patient of blood type',type + '.')\n",
    "            \n",
    "bloodcount('C:/Users/Alpha/Downloads/bloodtype1.txt')"
   ]
  },
  {
   "cell_type": "markdown",
   "id": "22234906",
   "metadata": {},
   "source": [
    "# Question 8 Python\n",
    "Write a function curconv() that takes as input:\n",
    "1. a currency represented using a string (e.g., 'JPY' for the Japanese Yen or\n",
    "'EUR' for the Euro)\n",
    "2. an amount\n",
    "and then converts and returns the amount in US dollars."
   ]
  },
  {
   "cell_type": "code",
   "execution_count": 3,
   "id": "193aafac",
   "metadata": {},
   "outputs": [
    {
     "name": "stdout",
     "output_type": "stream",
     "text": [
      "Unit Of Currency:-EUR\n",
      "Enter The Amount:-100\n",
      "1.22965441.22965441.22965441.22965441.22965441.22965441.22965441.22965441.22965441.22965441.22965441.22965441.22965441.22965441.22965441.22965441.22965441.22965441.22965441.22965441.22965441.22965441.22965441.22965441.22965441.22965441.22965441.22965441.22965441.22965441.22965441.22965441.22965441.22965441.22965441.22965441.22965441.22965441.22965441.22965441.22965441.22965441.22965441.22965441.22965441.22965441.22965441.22965441.22965441.22965441.22965441.22965441.22965441.22965441.22965441.22965441.22965441.22965441.22965441.22965441.22965441.22965441.22965441.22965441.22965441.22965441.22965441.22965441.22965441.22965441.22965441.22965441.22965441.22965441.22965441.22965441.22965441.22965441.22965441.22965441.22965441.22965441.22965441.22965441.22965441.22965441.22965441.22965441.22965441.22965441.22965441.22965441.22965441.22965441.22965441.22965441.22965441.22965441.22965441.2296544\n"
     ]
    }
   ],
   "source": [
    "\n",
    "def curconv(name,money):\n",
    "\n",
    "    x = open('C:/Users/Alpha/Downloads/currencies.txt','r')\n",
    "    lines=x.readlines()\n",
    "    for line in lines:\n",
    "        if name in line:\n",
    "            line=line.split()\n",
    "            data=line [1] * money\n",
    "            \n",
    "    print (data)\n",
    "      \n",
    "        \n",
    "\n",
    "name = input(\"Unit Of Currency:-\")\n",
    "\n",
    "money = int (input(\"Enter The Amount:-\"))\n",
    "curconv(name,money)"
   ]
  },
  {
   "cell_type": "markdown",
   "id": "333926e3",
   "metadata": {},
   "source": [
    "# Question 9 Python\n",
    "\n",
    "Each of the following will cause an exception (an error). Identify what type of\n",
    "exception each will cause."
   ]
  },
  {
   "cell_type": "markdown",
   "id": "9304ff1c",
   "metadata": {},
   "source": [
    "=> Trying to add incompatible variables, as in\n",
    "adding 6 + ‘a’\n"
   ]
  },
  {
   "cell_type": "code",
   "execution_count": null,
   "id": "7030e440",
   "metadata": {},
   "outputs": [],
   "source": [
    "Error:\n",
    "\n",
    "6 + 'a'\n",
    "\n",
    "SyntexError: invalid character in identifier"
   ]
  },
  {
   "cell_type": "markdown",
   "id": "c4dd65b9",
   "metadata": {},
   "source": [
    "=> Referring to the 12th item of a list that has only 10\n",
    "items"
   ]
  },
  {
   "cell_type": "code",
   "execution_count": null,
   "id": "88f27b38",
   "metadata": {},
   "outputs": [],
   "source": [
    "Error:\n",
    "list=['1','2','3','4','5','6','7','8','9','10','11']\n",
    "print(lst[12])\n",
    "\n",
    "IndexError: list index out of range"
   ]
  },
  {
   "cell_type": "markdown",
   "id": "a0609379",
   "metadata": {},
   "source": [
    "=> Using a value that is out of range for a function’s\n",
    "input, such as calling math.sqrt(-1.0)\n"
   ]
  },
  {
   "cell_type": "code",
   "execution_count": null,
   "id": "d81ac4b4",
   "metadata": {},
   "outputs": [],
   "source": [
    "import math\n",
    "math.sqrt(-1.0)\n",
    "\n",
    "ValueError: math domain error (Cannot do the squre root of negative value)"
   ]
  },
  {
   "cell_type": "markdown",
   "id": "cd506e48",
   "metadata": {},
   "source": [
    "=> Using an undeclared variable, such as print(x)\n",
    "when x has not been defined "
   ]
  },
  {
   "cell_type": "code",
   "execution_count": null,
   "id": "321ec34e",
   "metadata": {},
   "outputs": [],
   "source": [
    "print(x)\n",
    "\n",
    "NameError: name 'x' is not defined (Cannot print variable which has not define)"
   ]
  },
  {
   "cell_type": "markdown",
   "id": "9282b960",
   "metadata": {},
   "source": [
    "=> Trying to open a file that does not exist, such as\n",
    "mistyping the file name or looking in the wrong\n",
    "directory"
   ]
  },
  {
   "cell_type": "code",
   "execution_count": null,
   "id": "46da049a",
   "metadata": {},
   "outputs": [],
   "source": [
    "file = open('C:/Users/Alpha/Downloads/currencies1.txt'')\n",
    "\n",
    "FileNotFoundError (There is no such file as currencies1.txt)"
   ]
  },
  {
   "cell_type": "markdown",
   "id": "9f36f2e4",
   "metadata": {},
   "source": [
    "# Question 10 Python\n",
    "\n",
    "Encryption is the process of hiding the meaning of a text by substituting letters in the\n",
    "message with other letters, according to some system. If the process is successful, no\n",
    "one but the intended recipient can understand the encrypted message. Cryptanalysis\n",
    "refers to attempts to undo the encryption, even if some details of the encryption are\n",
    "unknown (for example, if an encrypted message has been intercepted). The first step\n",
    "of cryptanalysis is often to build up a table of letter frequencies in the encrypted text.\n",
    "Assume that the string letters is already defined as\n",
    "'abcdefghijklmnopqrstuvwxyz'. Write a function called frequencies()\n",
    "that takes a string as its only parameter, and returns a list of integers, showing the\n",
    "number of times each character appears in the text. Your function may ignore any\n",
    "characters that are not in letters. "
   ]
  },
  {
   "cell_type": "code",
   "execution_count": 4,
   "id": "f5e662f7",
   "metadata": {},
   "outputs": [
    {
     "name": "stdout",
     "output_type": "stream",
     "text": [
      "enter name:apple\n",
      "dict_values([1, 2, 1, 1])\n"
     ]
    }
   ],
   "source": [
    "Letter='abcdefghijklmnopqrstuvwxyz'\n",
    "def frequency(itemList):\n",
    "    word = {}\n",
    "    for item in itemList:\n",
    "        if item in word: \n",
    "            word[item] += 1\n",
    "        else:\n",
    "            word[item] = 1\n",
    "      \n",
    "    \n",
    "    repeat_value = word.values()\n",
    "\n",
    "    Listofvalues = (repeat_value)\n",
    "    print (Listofvalues)\n",
    "    \n",
    "  \n",
    "x=input(\"enter name:\")\n",
    "frequency(x)"
   ]
  }
 ],
 "metadata": {
  "kernelspec": {
   "display_name": "Python 3 (ipykernel)",
   "language": "python",
   "name": "python3"
  },
  "language_info": {
   "codemirror_mode": {
    "name": "ipython",
    "version": 3
   },
   "file_extension": ".py",
   "mimetype": "text/x-python",
   "name": "python",
   "nbconvert_exporter": "python",
   "pygments_lexer": "ipython3",
   "version": "3.9.7"
  }
 },
 "nbformat": 4,
 "nbformat_minor": 5
}
